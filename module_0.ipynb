{
 "cells": [
  {
   "cell_type": "code",
   "execution_count": 35,
   "metadata": {},
   "outputs": [
    {
     "data": {
      "text/plain": [
       "7"
      ]
     },
     "execution_count": 35,
     "metadata": {},
     "output_type": "execute_result"
    }
   ],
   "source": [
    "import numpy as np\n",
    "\n",
    "number = np.random.randint(1,101) #Загадываем случайное число от 1 до 100\n",
    "\n",
    "def game_core(number): #Создаем функцию, которая будет угадывать число, и выводить кол-во попыток\n",
    "    count = 1 #Создаем счетчик попыток\n",
    "    left = 1 #Нижняя граница диапазона загаданного числа\n",
    "    right = 100 #Верхняя граница диапазона загаданного числа\n",
    "    predict = 50 #Первое предсказанное значение\n",
    "    '''Запускаем цикл while в ходе которого происходит сравнение предсказанного нами значения с загаданным числом\n",
    "    в большую и меньшую сторону с постепенным сужением диапазона'''\n",
    "    while number != predict:\n",
    "        count += 1\n",
    "        if number > predict:\n",
    "            left = predict+1\n",
    "        else:\n",
    "            right= predict-1\n",
    "        predict = (left+right)//2\n",
    "    return count\n",
    "\n",
    "game_core(number)\n",
    "\n",
    "\n",
    "\n",
    "\n",
    "    \n",
    "\n"
   ]
  },
  {
   "cell_type": "code",
   "execution_count": null,
   "metadata": {},
   "outputs": [],
   "source": []
  },
  {
   "cell_type": "code",
   "execution_count": null,
   "metadata": {},
   "outputs": [],
   "source": []
  }
 ],
 "metadata": {
  "kernelspec": {
   "display_name": "Python 3",
   "language": "python",
   "name": "python3"
  },
  "language_info": {
   "codemirror_mode": {
    "name": "ipython",
    "version": 3
   },
   "file_extension": ".py",
   "mimetype": "text/x-python",
   "name": "python",
   "nbconvert_exporter": "python",
   "pygments_lexer": "ipython3",
   "version": "3.8.5"
  }
 },
 "nbformat": 4,
 "nbformat_minor": 4
}
